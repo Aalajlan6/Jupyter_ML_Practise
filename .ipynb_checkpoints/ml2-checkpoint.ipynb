{
 "cells": [
  {
   "cell_type": "code",
   "id": "initial_id",
   "metadata": {
    "collapsed": true,
    "ExecuteTime": {
     "end_time": "2024-06-22T18:48:47.516039Z",
     "start_time": "2024-06-22T18:48:43.936632Z"
    }
   },
   "source": [
    "import pandas as pd\n",
    "import quandl\n",
    "import numpy as np"
   ],
   "outputs": [],
   "execution_count": 2
  },
  {
   "metadata": {
    "ExecuteTime": {
     "end_time": "2024-06-22T18:49:29.076699Z",
     "start_time": "2024-06-22T18:49:29.071287Z"
    }
   },
   "cell_type": "code",
   "source": "df = pd.read_csv('music.csv')",
   "id": "bd885884085b38a1",
   "outputs": [],
   "execution_count": 5
  },
  {
   "metadata": {},
   "cell_type": "code",
   "outputs": [],
   "execution_count": null,
   "source": "",
   "id": "f95d055d1a3008c3"
  }
 ],
 "metadata": {
  "kernelspec": {
   "display_name": "Python 3",
   "language": "python",
   "name": "python3"
  },
  "language_info": {
   "codemirror_mode": {
    "name": "ipython",
    "version": 2
   },
   "file_extension": ".py",
   "mimetype": "text/x-python",
   "name": "python",
   "nbconvert_exporter": "python",
   "pygments_lexer": "ipython2",
   "version": "2.7.6"
  }
 },
 "nbformat": 4,
 "nbformat_minor": 5
}
